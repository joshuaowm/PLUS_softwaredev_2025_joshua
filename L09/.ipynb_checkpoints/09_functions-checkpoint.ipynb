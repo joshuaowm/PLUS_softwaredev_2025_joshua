{
 "cells": [
  {
   "cell_type": "markdown",
   "metadata": {},
   "source": [
    "# Functions\n",
    "\n",
    "We have tried Python standard functions, standard libraries and a few geo-related python libraries in this course so far, mostly in Jupyter notebooks. Now, we are going back to some programming fundamentals in Python.\n",
    "\n",
    "Creating functions are a way to divide your code into reusable pieces that can be run/used multiple times, sort of like running a Jupyter notebook cell.\n",
    "\n",
    "You can think of a function like a block of code. A function can take parameters (or not!) to run, and can also return something to the user (e.g. a variable that can be of any type (e.g. list, string, integer), multiple variables, other python objects like a class or figure object from the matplotlib introduction that was shared with you).\n",
    "\n",
    "## Defining a function\n",
    "\n",
    "To define a function in python, the **def** keyword is used, which is short for definition, followed by parentheses () and a colon : The code contained in the function begins on the next line after the colon and each line to be included in the function must be indented at least once so that the python interpreter knows that it belongs together."
   ]
  },
  {
   "cell_type": "code",
   "execution_count": null,
   "metadata": {},
   "outputs": [],
   "source": [
    "# This one line of code begins to define a function.\n",
    "# If you run it like this, it will throw an end-of-file (EOF) error,\n",
    "# this is because it expects something, anything other than an\n",
    "# absolutely empty function.\n",
    "def this_is_a_function_0():"
   ]
  },
  {
   "cell_type": "code",
   "execution_count": null,
   "metadata": {},
   "outputs": [],
   "source": [
    "# You can fix this either by explicitly writing the keyword \"return\"...\n",
    "def this_is_a_function_1():\n",
    "    return"
   ]
  },
  {
   "cell_type": "code",
   "execution_count": null,
   "metadata": {},
   "outputs": [],
   "source": [
    "# Or by doing something, anything, inside the function...\n",
    "def this_is_a_function_2():\n",
    "    variable = \"string\""
   ]
  },
  {
   "cell_type": "code",
   "execution_count": null,
   "metadata": {},
   "outputs": [],
   "source": [
    "# Or both...\n",
    "def this_is_a_function_3():\n",
    "    variable = \"string\"\n",
    "    return variable"
   ]
  },
  {
   "cell_type": "markdown",
   "metadata": {},
   "source": [
    "Technically you have defined 3 functions now! If you remember from earlier in the course, you can check this using the built-in globals() and locals() functions."
   ]
  },
  {
   "cell_type": "code",
   "execution_count": null,
   "metadata": {},
   "outputs": [],
   "source": [
    "globals()"
   ]
  },
  {
   "cell_type": "code",
   "execution_count": null,
   "metadata": {},
   "outputs": [],
   "source": [
    "locals()"
   ]
  },
  {
   "cell_type": "code",
   "execution_count": null,
   "metadata": {},
   "outputs": [],
   "source": [
    "this_is_a_function_1"
   ]
  },
  {
   "cell_type": "markdown",
   "metadata": {},
   "source": [
    "If you just call the name of the function (without the parentheses), iPython will explain to you what kind of object it is. In this case, __main__ is a namespace, which means this file or script."
   ]
  },
  {
   "cell_type": "code",
   "execution_count": null,
   "metadata": {},
   "outputs": [],
   "source": [
    "this_is_a_function_2"
   ]
  },
  {
   "cell_type": "code",
   "execution_count": null,
   "metadata": {},
   "outputs": [],
   "source": [
    "this_is_a_function_3"
   ]
  },
  {
   "cell_type": "markdown",
   "metadata": {},
   "source": [
    "You can also check this using the built-in type function."
   ]
  },
  {
   "cell_type": "code",
   "execution_count": null,
   "metadata": {},
   "outputs": [],
   "source": [
    "type(this_is_a_function_1)"
   ]
  },
  {
   "cell_type": "code",
   "execution_count": null,
   "metadata": {},
   "outputs": [],
   "source": [
    "type(this_is_a_function_2)"
   ]
  },
  {
   "cell_type": "code",
   "execution_count": null,
   "metadata": {},
   "outputs": [],
   "source": [
    "type(this_is_a_function_3)"
   ]
  },
  {
   "cell_type": "markdown",
   "metadata": {},
   "source": [
    "See how the output of the type() functions differs when you actually call the function. Calling the function means that you make it run, or execute the function. To do this, you need to include the parentheses. In the case of a function that takes arguments/parameters, these parenthesis will not be empty, but first see what happens based on the very basic functions we defined in the cells before..."
   ]
  },
  {
   "cell_type": "code",
   "execution_count": null,
   "metadata": {},
   "outputs": [],
   "source": [
    "# This is the function that just included \"return\"\n",
    "type(this_is_a_function_1())"
   ]
  },
  {
   "cell_type": "code",
   "execution_count": null,
   "metadata": {},
   "outputs": [],
   "source": [
    "# This is the function that defined a variable but was defined not\n",
    "# to return anything.\n",
    "type(this_is_a_function_2())"
   ]
  },
  {
   "cell_type": "code",
   "execution_count": null,
   "metadata": {},
   "outputs": [],
   "source": [
    "# This is the function that defined a string variable\n",
    "# and returned it!\n",
    "type(this_is_a_function_3())"
   ]
  },
  {
   "cell_type": "markdown",
   "metadata": {},
   "source": [
    "What you see here is that the built-in type() function is now receiving the output of whatever defined function as input instead of the function itself because you called the function and it did a thing!\n",
    "\n",
    "Just to be a bit more clear, here are a few more functions that are called and then given to the type() function as input."
   ]
  },
  {
   "cell_type": "code",
   "execution_count": null,
   "metadata": {},
   "outputs": [],
   "source": [
    "def this_is_a_function_4():\n",
    "    variable = 586.334\n",
    "    return variable"
   ]
  },
  {
   "cell_type": "code",
   "execution_count": null,
   "metadata": {},
   "outputs": [],
   "source": [
    "type(this_is_a_function_4())"
   ]
  },
  {
   "cell_type": "code",
   "execution_count": null,
   "metadata": {},
   "outputs": [],
   "source": [
    "def this_is_a_function_5():\n",
    "    variable_1 = 586.334\n",
    "    variable_2 = \"String!\"\n",
    "    return variable_1, variable_2"
   ]
  },
  {
   "cell_type": "code",
   "execution_count": null,
   "metadata": {},
   "outputs": [],
   "source": [
    "type(this_is_a_function_5())"
   ]
  },
  {
   "cell_type": "markdown",
   "metadata": {},
   "source": [
    "As you see above, the default type of returned variables/objects/values is an immutable tuple, however you can define it to be something different..."
   ]
  },
  {
   "cell_type": "code",
   "execution_count": null,
   "metadata": {},
   "outputs": [],
   "source": [
    "def this_is_a_function_6():\n",
    "    variable_1 = 586.334\n",
    "    variable_2 = \"String!\"\n",
    "    return [variable_1, variable_2]"
   ]
  },
  {
   "cell_type": "code",
   "execution_count": null,
   "metadata": {},
   "outputs": [],
   "source": [
    "type(this_is_a_function_6())"
   ]
  },
  {
   "cell_type": "markdown",
   "metadata": {},
   "source": [
    "You can also assign the output of a called function to a variable in order to do something else with it."
   ]
  },
  {
   "cell_type": "code",
   "execution_count": null,
   "metadata": {},
   "outputs": [],
   "source": [
    "function_6_output = this_is_a_function_6()\n",
    "print(function_6_output)"
   ]
  },
  {
   "cell_type": "code",
   "execution_count": null,
   "metadata": {},
   "outputs": [],
   "source": [
    "function_5_output = this_is_a_function_5()\n",
    "print(function_5_output)\n",
    "type(function_5_output)"
   ]
  },
  {
   "cell_type": "code",
   "execution_count": null,
   "metadata": {},
   "outputs": [],
   "source": [
    "function_4_output = this_is_a_function_4()\n",
    "print(function_4_output)\n",
    "type(function_4_output)"
   ]
  },
  {
   "cell_type": "code",
   "execution_count": null,
   "metadata": {},
   "outputs": [],
   "source": [
    "function_4_output / 3"
   ]
  },
  {
   "cell_type": "markdown",
   "metadata": {},
   "source": [
    "Not to make things more confusing, but you have to remember that a function is just a way to refer to a block of code. Just like a variable, you can re-define it... re-definining functions isn't useful for anything other than understanding that most of programming is linking files, but also linking blocks of code together in different ways, and that a function is just another \"object\" that you can call (i.e. make run!)."
   ]
  },
  {
   "cell_type": "code",
   "execution_count": null,
   "metadata": {},
   "outputs": [],
   "source": [
    "def this_is_a_function_1():\n",
    "    return \"oh ha! I return something now!\""
   ]
  },
  {
   "cell_type": "code",
   "execution_count": null,
   "metadata": {},
   "outputs": [],
   "source": [
    "this_is_a_function_1()"
   ]
  },
  {
   "cell_type": "code",
   "execution_count": null,
   "metadata": {},
   "outputs": [],
   "source": [
    "this_is_a_function_1 = \"uh oh, now what?!\""
   ]
  },
  {
   "cell_type": "code",
   "execution_count": null,
   "metadata": {},
   "outputs": [],
   "source": [
    "this_is_a_function_1()"
   ]
  },
  {
   "cell_type": "markdown",
   "metadata": {},
   "source": [
    "## Scope"
   ]
  },
  {
   "cell_type": "markdown",
   "metadata": {},
   "source": [
    "So, what happened above? We redefined this_is_a_function_1(), and then assigned a string value to a variable of the same name . Essentially we re-defined the function with a string variable, which brings us to an important concept called \"scope\". \"Scope\" basically refers to the boundaries in memory (that you cannot see...) for which different values are applicable. This is relevant for functions, but especially when you start writing different scripts or packages that have access to different files, functions, classes, etc. While you can be careful not to name anything the same to avoid such issues, that gets to be very difficult when relying on many external libraries etc.\n",
    "\n",
    "So, again, like we did before, if you just call the name of the function (without the parentheses), iPython will explain to you what kind of object it is.\n"
   ]
  },
  {
   "cell_type": "code",
   "execution_count": null,
   "metadata": {},
   "outputs": [],
   "source": [
    "this_is_a_function_2"
   ]
  },
  {
   "cell_type": "markdown",
   "metadata": {},
   "source": [
    "**\\_\\_main\\_\\_** refers to a namespace, which, in this case, means this file or script... So, this function currently has a scope of this file or script (unless I import this file/script into another file like we have done with other libraries, but that is another topic...). If you want to learn more about this, read the documentation here: https://docs.python.org/3/library/__main__.html\n",
    "\n",
    "These are a bit more advanced, meta-understanding sort of topics in python, so don't worry if it is confusing and for now you can just focus on individual functions.\n",
    "\n",
    "Back to functions...\n",
    "\n",
    "So, we can define functions now that return something. Great. But how do we give them input? By defining arguments!\n",
    "\n",
    "## Defining functions with input arguments\n",
    "\n",
    "Ultimately, this is done in the function definition by simply giving possible input a name that is then used in the function."
   ]
  },
  {
   "cell_type": "code",
   "execution_count": null,
   "metadata": {},
   "outputs": [],
   "source": [
    "def this_is_a_function_10(var1, var2):\n",
    "    \n",
    "    if type(var1) == int and type(var2) == int:\n",
    "        return var1 * var2\n",
    "    elif type(var1) == float and type(var2) == float:\n",
    "        return var1 * var2 / 2\n",
    "    elif type(var1) == str and type(var2) == str:\n",
    "        return \"String one: \" + var1 + \"    String two: \" + var2\n",
    "    else:\n",
    "        print(\"Unknown combination: {}, {}\".format(var1, var2))"
   ]
  },
  {
   "cell_type": "code",
   "execution_count": null,
   "metadata": {},
   "outputs": [],
   "source": [
    "this_is_a_function_10(4, 5)"
   ]
  },
  {
   "cell_type": "code",
   "execution_count": null,
   "metadata": {},
   "outputs": [],
   "source": [
    "this_is_a_function_10(4.0, 5.0)"
   ]
  },
  {
   "cell_type": "code",
   "execution_count": null,
   "metadata": {},
   "outputs": [],
   "source": [
    "this_is_a_function_10(\"4\", \"5\")"
   ]
  },
  {
   "cell_type": "code",
   "execution_count": null,
   "metadata": {},
   "outputs": [],
   "source": [
    "this_is_a_function_10(4, 5.0)"
   ]
  },
  {
   "cell_type": "markdown",
   "metadata": {},
   "source": [
    "Now, remember how we mentioned scope before? Try and see what happens if you print one of the variables defined as part of the function..."
   ]
  },
  {
   "cell_type": "code",
   "execution_count": null,
   "metadata": {},
   "outputs": [],
   "source": [
    "print(var1)"
   ]
  },
  {
   "cell_type": "markdown",
   "metadata": {},
   "source": [
    "In this case, the reference to \"var1\" and \"var2\" are only valid inside the function definition, just like the functions we are defining are only valid inside this file (...unless we import them into another file). Next week we will talk more about classes and very briefly about python packages, but the concept is the same, in that classes are essentially just another way to define a new object that can have attributes and functions that have a limited scope that only apply to the class. These are all different ways to divide code depending on your needs and what you need it to do (or not do).\n",
    "\n",
    "... Anyways, there is also another way to define arguments for a function, and that is to explicitly assign keywords with a default value. This means that if no value is defined for these arguments, the default value that is defined will be used."
   ]
  },
  {
   "cell_type": "code",
   "execution_count": null,
   "metadata": {},
   "outputs": [],
   "source": [
    "def this_is_a_function_11(var1 = 1, var2 = 3):\n",
    "    \n",
    "    if type(var1) == int and type(var2) == int:\n",
    "        return var1 * var2\n",
    "    elif type(var1) == float and type(var2) == float:\n",
    "        return var1 * var2 / 2\n",
    "    elif type(var1) == str and type(var2) == str:\n",
    "        return \"String one: \" + var1 + \"    String two: \" + var2\n",
    "    else:\n",
    "        print(\"Unknown combination: {}, {}\".format(var1, var2))"
   ]
  },
  {
   "cell_type": "code",
   "execution_count": null,
   "metadata": {},
   "outputs": [],
   "source": [
    "this_is_a_function_11()"
   ]
  },
  {
   "cell_type": "code",
   "execution_count": null,
   "metadata": {},
   "outputs": [],
   "source": [
    "this_is_a_function_11(7, 8)"
   ]
  },
  {
   "cell_type": "code",
   "execution_count": null,
   "metadata": {},
   "outputs": [],
   "source": [
    "this_is_a_function_11(\"first\", \"second\")"
   ]
  },
  {
   "cell_type": "code",
   "execution_count": null,
   "metadata": {},
   "outputs": [],
   "source": [
    "this_is_a_function_11(var2 = \"first\", var1 = \"second\")"
   ]
  },
  {
   "cell_type": "markdown",
   "metadata": {},
   "source": [
    "Hmm...that was interesting. If you missed it, take a closer look above at what happened.\n",
    "\n",
    "The keyword arguments for the function called \"var1\" and \"var2\" can also be referred to by name! However, try to access them again, and you'll get an error."
   ]
  },
  {
   "cell_type": "code",
   "execution_count": null,
   "metadata": {},
   "outputs": [],
   "source": [
    "print(var1)"
   ]
  },
  {
   "cell_type": "markdown",
   "metadata": {},
   "source": [
    "This is because  \"var1\" and \"var2\" are still only valid inside the function, however, since you defined them by name, you can refer to them by name when calling the function. This is very useful especially if you have multiple arguments so that you make sure you are passing the proper values instead of having to rely only on the order that they are given to the function. These are referred to as \"keyword arguments\" and you'll see this shortened to \"kwargs\".\n",
    "\n",
    "\n",
    "## Definining a function to take an unknown number of arguments\n",
    "\n",
    "There are two other ways to pass values to a function that might be useful for you someday, but are a bit more advanced. There are two ways to pass values if you don't necessarily know the number of values you want to pass! This is done using one or two stars * and a name to refer to the arguments. Out of convention, these are referred to as args (short for arguments) and kwargs (short for keyword arguments), but you could call them whatever you like....\n",
    "\n",
    "Let's take a look at both of these things by checking the type of what happens for each kind of unknown number of arguments..."
   ]
  },
  {
   "cell_type": "code",
   "execution_count": null,
   "metadata": {},
   "outputs": [],
   "source": [
    "def this_is_a_function_12(*args):\n",
    "    print(type(args))"
   ]
  },
  {
   "cell_type": "code",
   "execution_count": null,
   "metadata": {},
   "outputs": [],
   "source": [
    "this_is_a_function_12()"
   ]
  },
  {
   "cell_type": "code",
   "execution_count": null,
   "metadata": {},
   "outputs": [],
   "source": [
    "def this_is_a_function_13(**kwargs):\n",
    "    print(type(kwargs))"
   ]
  },
  {
   "cell_type": "code",
   "execution_count": null,
   "metadata": {},
   "outputs": [],
   "source": [
    "this_is_a_function_13()"
   ]
  },
  {
   "cell_type": "markdown",
   "metadata": {},
   "source": [
    "So, the first one with one \\* essentially receives a tuple, and the second one with \\*\\* receives a dictionary. This makes sense, since the first one receives an iterably tuple and the second one essentially unknown keywords with values. Ok, that's interesting but a bit abstract. How do you use such a thing?"
   ]
  },
  {
   "cell_type": "code",
   "execution_count": null,
   "metadata": {},
   "outputs": [],
   "source": [
    "def this_is_a_function_14(*args):\n",
    "    for arg in args:\n",
    "        print(arg)"
   ]
  },
  {
   "cell_type": "code",
   "execution_count": null,
   "metadata": {},
   "outputs": [],
   "source": [
    "this_is_a_function_14(\"test\", 4, 6.5, \"ah!\")"
   ]
  },
  {
   "cell_type": "code",
   "execution_count": null,
   "metadata": {},
   "outputs": [],
   "source": [
    "def this_is_a_function_15(first_value, second_value, *args):\n",
    "    for arg in args:\n",
    "        print(arg)"
   ]
  },
  {
   "cell_type": "code",
   "execution_count": null,
   "metadata": {},
   "outputs": [],
   "source": [
    "this_is_a_function_15(\"test\", 4, 6.5, \"ah!\")"
   ]
  },
  {
   "cell_type": "code",
   "execution_count": null,
   "metadata": {},
   "outputs": [],
   "source": [
    "def this_is_a_function_16(first_value, second_value, *args):\n",
    "    for arg in args:\n",
    "        print(arg)\n",
    "        \n",
    "    print(\"This is actually the first argument: {}\".format(first_value))\n",
    "    print(\"And this is the second argument: {}\".format(second_value))"
   ]
  },
  {
   "cell_type": "code",
   "execution_count": null,
   "metadata": {},
   "outputs": [],
   "source": [
    "this_is_a_function_16(\"test\", 4, 6.5, \"ah!\")"
   ]
  },
  {
   "cell_type": "markdown",
   "metadata": {},
   "source": [
    "So, you can pass any number of arguments. To make it even more confusing, let's call the same function as before, but refer to the defined arguments by keyword and see what happens:"
   ]
  },
  {
   "cell_type": "code",
   "execution_count": null,
   "metadata": {},
   "outputs": [],
   "source": [
    "this_is_a_function_16(6.5, \"ah!\", second_value = \"test\", first_value = 4)"
   ]
  },
  {
   "cell_type": "code",
   "execution_count": null,
   "metadata": {},
   "outputs": [],
   "source": [
    "this_is_a_function_16(second_value = \"test\", first_value = 4, 6.5, \"ah!\")"
   ]
  },
  {
   "cell_type": "code",
   "execution_count": null,
   "metadata": {},
   "outputs": [],
   "source": [
    "this_is_a_function_16(first_value = 4, second_value = \"test\", 6.5, \"ah!\")"
   ]
  },
  {
   "cell_type": "markdown",
   "metadata": {},
   "source": [
    "So, when you use the single \\*, positional arguments are expected, which means the order matters and you ought not use keyword names when calling the function if an unknown number of positional arguments are defined. If you want to refer to an unknown number of arguments by keyword, you have to use the double star \\*\\*  This can get a bit more confusing, but basically, this defines a function that can handle a dictionary (keyword value pairs) that is unknown!"
   ]
  },
  {
   "cell_type": "code",
   "execution_count": null,
   "metadata": {},
   "outputs": [],
   "source": [
    "def this_is_a_function_17(**kwargs): \n",
    "    for key, value in kwargs.items():\n",
    "        print (\"%s == %s\" %(key, value))"
   ]
  },
  {
   "cell_type": "code",
   "execution_count": null,
   "metadata": {},
   "outputs": [],
   "source": [
    "this_is_a_function_17(var1 = \"ah\", var2 = \"number 2\", var3 = 48485)"
   ]
  },
  {
   "cell_type": "markdown",
   "metadata": {},
   "source": [
    "So, to solve the error that we got before when referring to keyword arguments when expecting unknown positional arguments, we can just define both...but still have to be careful of the order that values are defined in the function. For example, if we define it like this, we have the same problem as before:"
   ]
  },
  {
   "cell_type": "code",
   "execution_count": null,
   "metadata": {},
   "outputs": [],
   "source": [
    "def this_is_a_function_18(first_value, second_value, *args, **kwargs): \n",
    "    \n",
    "    for arg in args:\n",
    "        print(arg)\n",
    "        \n",
    "    print(\"This is actually the first argument: {}\".format(first_value))\n",
    "    print(\"And this is the second argument: {}\".format(second_value))\n",
    "    \n",
    "    for key, value in kwargs.items():\n",
    "        print (\"%s == %s\" %(key, value))"
   ]
  },
  {
   "cell_type": "code",
   "execution_count": null,
   "metadata": {},
   "outputs": [],
   "source": [
    "this_is_a_function_18(6.5, \"ah!\", second_value = \"test\", first_value = 4)"
   ]
  },
  {
   "cell_type": "markdown",
   "metadata": {},
   "source": [
    "But if we take the positional arguments first and define keyword arguments, the function works without any issues."
   ]
  },
  {
   "cell_type": "code",
   "execution_count": null,
   "metadata": {},
   "outputs": [],
   "source": [
    "def this_is_a_function_19(*args, first_value, second_value, **kwargs): \n",
    "    \n",
    "    for arg in args:\n",
    "        print(arg)\n",
    "        \n",
    "    print(\"This is actually a keyword argument: {}\".format(first_value))\n",
    "    print(\"And this is the second keyword argument: {}\".format(second_value))\n",
    "    \n",
    "    for key, value in kwargs.items():\n",
    "        print (\"%s == %s\" %(key, value))"
   ]
  },
  {
   "cell_type": "code",
   "execution_count": null,
   "metadata": {},
   "outputs": [],
   "source": [
    "this_is_a_function_19(6.5, \"ah!\", second_value = \"test\", first_value = 4)"
   ]
  },
  {
   "cell_type": "markdown",
   "metadata": {},
   "source": [
    "And finally, we can also give some keyword arguments as well as positional arguments default values..."
   ]
  },
  {
   "cell_type": "code",
   "execution_count": null,
   "metadata": {},
   "outputs": [],
   "source": [
    "def this_is_a_function_20(first_pos, *args, first_kw = 56, second_kw = \"two\", **kwargs): \n",
    "    \n",
    "    print(\"This is actually the first argument: {}\".format(first_pos))\n",
    "    \n",
    "    for arg in args:\n",
    "        print(arg)\n",
    "        \n",
    "    print(\"This is actually a keyword argument: {}\".format(first_kw))\n",
    "    print(\"And this is the second keyword argument: {}\".format(second_kw))\n",
    "    \n",
    "    for key, value in kwargs.items():\n",
    "        print (\"%s == %s\" %(key, value))"
   ]
  },
  {
   "cell_type": "code",
   "execution_count": null,
   "metadata": {},
   "outputs": [],
   "source": [
    "this_is_a_function_20()"
   ]
  },
  {
   "cell_type": "code",
   "execution_count": null,
   "metadata": {},
   "outputs": [],
   "source": [
    "this_is_a_function_20(\"Hello!\")"
   ]
  },
  {
   "cell_type": "code",
   "execution_count": null,
   "metadata": {},
   "outputs": [],
   "source": [
    "this_is_a_function_20(\"Hello!\", \"number 2\", \"number 3\")"
   ]
  },
  {
   "cell_type": "code",
   "execution_count": null,
   "metadata": {},
   "outputs": [],
   "source": [
    "this_is_a_function_20(\n",
    "    \"Hello!\", \"number 2\", \"number 3\",\n",
    "    programm = \"keyword program value\",\n",
    "    test = \"what is this nonsense?!\"\n",
    ")"
   ]
  },
  {
   "cell_type": "code",
   "execution_count": null,
   "metadata": {},
   "outputs": [],
   "source": [
    "this_is_a_function_20(\n",
    "    \"Hello!\", \"number 2\", \"number 3\",\n",
    "    programm = \"keyword program value\",\n",
    "    test = \"what is this nonsense?!\",\n",
    "    second_kw = \"I changed this second value now!\"\n",
    ")"
   ]
  },
  {
   "cell_type": "code",
   "execution_count": null,
   "metadata": {},
   "outputs": [],
   "source": [
    "this_is_a_function_20(\n",
    "    \"Hello!\", \"number 2\", \"number 3\",\n",
    "    programm = \"keyword program value\",\n",
    "    test = \"what is this nonsense?!\",\n",
    "    first_kw = \"I changed this first value now!\"\n",
    ")"
   ]
  },
  {
   "cell_type": "markdown",
   "metadata": {},
   "source": [
    "Ok, maybe things are extra confusing now, but at least you know that there are multiple ways to pass values to a function... What you do with the values is completely up to you! ;)"
   ]
  },
  {
   "cell_type": "markdown",
   "metadata": {},
   "source": [
    "One final thing... docstrings (https://peps.python.org/pep-0257/)! There are a few \"standards\" of how to define these, but docstrings are useful not only for internal documentation, but particularly to explain to users how to use a function/class/module. There are also methods to automatically convert all docstrings in a package into documentation (like Sphinx: https://www.sphinx-doc.org/en/master/)"
   ]
  },
  {
   "cell_type": "code",
   "execution_count": null,
   "metadata": {},
   "outputs": [],
   "source": [
    "def this_is_a_function_21(xyz, abc, num=None):\n",
    "    \"\"\"\n",
    "    Function that concatonates strings.\n",
    "\n",
    "    Parameters\n",
    "    ----------\n",
    "    xyz: <str>\n",
    "        First string.\n",
    "    abc: <str>\n",
    "        Second string.\n",
    "    num:\n",
    "        Optional numerical variable to be added as well.\n",
    "        \n",
    "\n",
    "    Returns\n",
    "    -------\n",
    "    <str>\n",
    "        Resulting string.\n",
    "    \"\"\"\n",
    "    output = '{} {}'.format(xyz, abc)\n",
    "    if num is not None:\n",
    "        num = str(num)\n",
    "        output = '{} {}'.format(output, num)\n",
    "    return output"
   ]
  },
  {
   "cell_type": "code",
   "execution_count": null,
   "metadata": {},
   "outputs": [],
   "source": [
    "help(this_is_a_function_21)"
   ]
  },
  {
   "cell_type": "code",
   "execution_count": null,
   "metadata": {},
   "outputs": [],
   "source": [
    "this_is_a_function_21(\"first string\", \"second string\")"
   ]
  },
  {
   "cell_type": "code",
   "execution_count": null,
   "metadata": {},
   "outputs": [],
   "source": [
    "this_is_a_function_21(\"first string\", \"second string\", 45.00)"
   ]
  },
  {
   "cell_type": "markdown",
   "metadata": {},
   "source": [
    "## Exercise\n",
    "\n",
    "Try to do the following:\n",
    "\n",
    "1. Define and then call functions that work in this document directly in the python interpreter (i.e. NOT in a notebook) and see what happens.\n",
    "    - Be sure to call the globals() and/or locals() functions from the interpreter after trying a few things. You will see that the output values are different between the notebook, which runs interactive Python (iPython) versus a standard Python interpreter...\n",
    "2. Write a function that takes three arguments and multiplies the first two arguments by each other and adds the third parameter to the multiplied value.\n",
    "    - See what happens if you give that function a non-numeric argument (e.g. string). Think about how you can handle such \"errors\".\n",
    "3. Define and call a function INSIDE another function -- this can be useful if you need to do the same thing multiple times within a function and nowhere else (again, just another way to limit or control scope...).\n",
    "4. Play around with the concept of recursion, which is where a function is defined and calls itself in its definition. This is a more advanced concept, but can be useful sometimes. See here for more details: https://www.geeksforgeeks.org/recursion-in-python/"
   ]
  },
  {
   "cell_type": "markdown",
   "metadata": {},
   "source": [
    "If you feel like you have a good handle on the basics of functions, feel free to take a look at this introduction tutorial on classes: https://www.learnpython.org/en/Classes_and_Objects"
   ]
  },
  {
   "cell_type": "code",
   "execution_count": null,
   "metadata": {},
   "outputs": [],
   "source": []
  }
 ],
 "metadata": {
  "kernelspec": {
   "display_name": "Python 3",
   "language": "python",
   "name": "python3"
  },
  "language_info": {
   "codemirror_mode": {
    "name": "ipython",
    "version": 3
   },
   "file_extension": ".py",
   "mimetype": "text/x-python",
   "name": "python",
   "nbconvert_exporter": "python",
   "pygments_lexer": "ipython3",
   "version": "3.8.3"
  }
 },
 "nbformat": 4,
 "nbformat_minor": 5
}
