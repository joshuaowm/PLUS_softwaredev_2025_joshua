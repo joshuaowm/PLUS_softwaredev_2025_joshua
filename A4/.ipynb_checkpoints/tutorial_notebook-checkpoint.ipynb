{
 "cells": [
  {
   "cell_type": "markdown",
   "id": "67a85576",
   "metadata": {},
   "source": [
    "# A4: modules, functions and imports\n",
    "### Functions: load_tif_as_tensor ; create_satellite_normalization_params ; run_dofa_inference\n",
    "\n",
    "These functions are a continuation of my previous A3 assignment, with improvements made especially to the `run_dofa_inference` function for better flexibility and visualization support.\n",
    "\n",
    "---"
   ]
  },
  {
   "cell_type": "markdown",
   "id": "f928c47d",
   "metadata": {},
   "source": [
    "## Summary\n",
    "- **`load_tif_as_tensor`**  \n",
    "  Loads a `.tif` image, processes and normalizes it, and returns a PyTorch tensor ready for model inference. \n",
    "\n",
    "- **`create_satellite_normalization_params`**  \n",
    "  Returns mean and standard deviation values for normalizing satellite imagery, based on different satellite types (e.g., Sentinel-2, Landsat, or ImageNet defaults).\n",
    "\n",
    "- **`run_dofa_inference`**  \n",
    "  Loads the DOFA model, runs inference on a given image tensor, and optionally visualizes the output with a color map. Also prints inference time and output shape for quick benchmarking."
   ]
  },
  {
   "cell_type": "code",
   "execution_count": 8,
   "id": "a9bfdc9a",
   "metadata": {},
   "outputs": [
    {
     "ename": "ImportError",
     "evalue": "cannot import name 'run_dofa_inference' from 'A4_Mangotang' (C:\\Users\\joshu\\GitHub\\PLUS_softwaredev_2025_joshua\\A4\\A4_Mangotang.py)",
     "output_type": "error",
     "traceback": [
      "\u001b[1;31m---------------------------------------------------------------------------\u001b[0m",
      "\u001b[1;31mImportError\u001b[0m                               Traceback (most recent call last)",
      "Cell \u001b[1;32mIn[8], line 2\u001b[0m\n\u001b[0;32m      1\u001b[0m \u001b[38;5;66;03m# Load Functions\u001b[39;00m\n\u001b[1;32m----> 2\u001b[0m \u001b[38;5;28;01mfrom\u001b[39;00m\u001b[38;5;250m \u001b[39m\u001b[38;5;21;01mA4_Mangotang\u001b[39;00m\u001b[38;5;250m \u001b[39m\u001b[38;5;28;01mimport\u001b[39;00m load_tif_as_tensor, create_satellite_normalization_params, run_dofa_inference\n",
      "\u001b[1;31mImportError\u001b[0m: cannot import name 'run_dofa_inference' from 'A4_Mangotang' (C:\\Users\\joshu\\GitHub\\PLUS_softwaredev_2025_joshua\\A4\\A4_Mangotang.py)"
     ]
    }
   ],
   "source": [
    "# Load Functions\n",
    "from A4_Mangotang import load_tif_as_tensor, create_satellite_normalization_params, run_dofa_inference"
   ]
  },
  {
   "cell_type": "code",
   "execution_count": 1,
   "id": "945fce48-f984-4ba6-b095-f97cae27f8ff",
   "metadata": {},
   "outputs": [
    {
     "ename": "NameError",
     "evalue": "name 'create_satellite_normalization_params' is not defined",
     "output_type": "error",
     "traceback": [
      "\u001b[1;31m---------------------------------------------------------------------------\u001b[0m",
      "\u001b[1;31mNameError\u001b[0m                                 Traceback (most recent call last)",
      "Cell \u001b[1;32mIn[1], line 5\u001b[0m\n\u001b[0;32m      2\u001b[0m image_path \u001b[38;5;241m=\u001b[39m \u001b[38;5;124m\"\u001b[39m\u001b[38;5;124msentinel2.tif\u001b[39m\u001b[38;5;124m\"\u001b[39m \n\u001b[0;32m      4\u001b[0m \u001b[38;5;66;03m# Step 1: Create normalization parameters, in this case Sentinel 2\u001b[39;00m\n\u001b[1;32m----> 5\u001b[0m norm_params \u001b[38;5;241m=\u001b[39m \u001b[43mcreate_satellite_normalization_params\u001b[49m(\u001b[38;5;124m\"\u001b[39m\u001b[38;5;124msentinel2\u001b[39m\u001b[38;5;124m\"\u001b[39m)\n\u001b[0;32m      7\u001b[0m \u001b[38;5;66;03m# Step 2: Load and preprocess the image into a tensor\u001b[39;00m\n\u001b[0;32m      8\u001b[0m image_tensor \u001b[38;5;241m=\u001b[39m load_tif_as_tensor(\n\u001b[0;32m      9\u001b[0m     path\u001b[38;5;241m=\u001b[39mimage_path,\n\u001b[0;32m     10\u001b[0m     size\u001b[38;5;241m=\u001b[39m(\u001b[38;5;241m224\u001b[39m, \u001b[38;5;241m224\u001b[39m),\n\u001b[1;32m   (...)\u001b[0m\n\u001b[0;32m     14\u001b[0m     handle_nodata\u001b[38;5;241m=\u001b[39m\u001b[38;5;28;01mTrue\u001b[39;00m\n\u001b[0;32m     15\u001b[0m )\n",
      "\u001b[1;31mNameError\u001b[0m: name 'create_satellite_normalization_params' is not defined"
     ]
    }
   ],
   "source": [
    "# Path to the input image \n",
    "image_path = \"sentinel2.tif\" \n",
    "\n",
    "# Step 1: Create normalization parameters, in this case Sentinel 2\n",
    "norm_params = create_satellite_normalization_params(\"sentinel2\")\n",
    "\n",
    "# Step 2: Load and preprocess the image into a tensor\n",
    "image_tensor = load_tif_as_tensor(\n",
    "    path=image_path,\n",
    "    size=(224, 224),\n",
    "    bands=[1, 2, 3],  # Assuming RGB\n",
    "    band_order='RGB',\n",
    "    normalization_params=norm_params,\n",
    "    handle_nodata=True\n",
    ")\n",
    "\n",
    "try:\n",
    "    output = run_inference_pipeline(image_path, imagery_type='sentinel2')\n",
    "except Exception as e:\n",
    "    print(f\"Error: {e}\")\n",
    "\n",
    "# Step 4: Run the DOFA model and visualize the output\n",
    "output = run_dofa_inference(image_tensor=image_tensor, wavelengths=wavelengths, visualize=True)\n",
    "\n",
    "print(\"Inference complete!\")"
   ]
  },
  {
   "cell_type": "markdown",
   "id": "9a53b75c-bca9-4f9e-a841-50a99bd85daa",
   "metadata": {},
   "source": [
    "### AI Disclaimer  \n",
    "Parts of this code, including debugging, error handling, and text refinement, were developed with the assistance of AI tools. AI was used to help correct code logic, fix grammar, and improve clarity in documentation."
   ]
  }
 ],
 "metadata": {
  "kernelspec": {
   "display_name": "Python 3 (ipykernel)",
   "language": "python",
   "name": "python3"
  },
  "language_info": {
   "codemirror_mode": {
    "name": "ipython",
    "version": 3
   },
   "file_extension": ".py",
   "mimetype": "text/x-python",
   "name": "python",
   "nbconvert_exporter": "python",
   "pygments_lexer": "ipython3",
   "version": "3.10.18"
  }
 },
 "nbformat": 4,
 "nbformat_minor": 5
}
